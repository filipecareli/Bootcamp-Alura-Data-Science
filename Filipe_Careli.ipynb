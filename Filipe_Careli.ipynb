{
  "nbformat": 4,
  "nbformat_minor": 0,
  "metadata": {
    "colab": {
      "name": "Filipe_Careli.ipynb",
      "provenance": [],
      "collapsed_sections": [
        "wbQ30EuUz6lw",
        "6-qz8NVR58GP"
      ],
      "toc_visible": true,
      "include_colab_link": true
    },
    "kernelspec": {
      "name": "python3",
      "display_name": "Python 3"
    }
  },
  "cells": [
    {
      "cell_type": "markdown",
      "metadata": {
        "id": "view-in-github",
        "colab_type": "text"
      },
      "source": [
        "<a href=\"https://colab.research.google.com/github/filipecareli/Bootcamp-Alura-Data-Science/blob/main/Filipe_Careli.ipynb\" target=\"_parent\"><img src=\"https://colab.research.google.com/assets/colab-badge.svg\" alt=\"Open In Colab\"/></a>"
      ]
    },
    {
      "cell_type": "markdown",
      "metadata": {
        "id": "E27fQer3E8K9"
      },
      "source": [
        "Olá **Cientista**!\n",
        "\n",
        "Bem vinda e bem vindo ao **mega desafio do Módulo 01**, neste desafio queremos que você aplique tudo que aprendeu no curso, analisando uma outra informação ~~referente a base de dados de [produção hospitalar](http://www2.datasus.gov.br/DATASUS/index.php?area=0202&id=11633&VObj=http://tabnet.datasus.gov.br/cgi/deftohtm.exe?sih/cnv/qi), seja número de internação, óbito, AIH ou taxa de mortalidade.~~ \n",
        "\n",
        "**P.S: Infelizmente o DataSUS está fora do ar por tempo indeterminado, para você não parar seu projeto, adicionamos no [GitHub](https://github.com/alura-cursos/agendamento-hospitalar/tree/main/dados) do curso, duas novas bases para você utilizar neste projeto (COVID-19 e Óbitos).**\n",
        "\n",
        "Uma base é dos **casos de COVID-19 baixadas do projeto [BRASIL.IO](https://brasil.io/dataset/covid19/caso/)**, outra são os números de óbitos registrados no cartório civil desde 1970 retirado do **[Kaggle](https://www.kaggle.com/amandalk/registered-deaths-brazil)**.\n",
        "\n",
        "Vocês podem escolher qualquer uma das duas bases de dados, a de COVID-19 é mais desafiadora e você vai precisar descompactar o arquivo por ser grande e entrar no site do Brasil.IO para entender todas as features presentes (No Brasil.IO tem diversas bases sobre COVID-19, estamos usando a chamada **Casos**). A base de óbito é mais simples e relativamente semelhate a utilizada no curso.\n",
        "\n",
        "Algumas dicas para você mandar bem no desafio final, capriche nas análises, escreva suas conclusões e hipóteses (mesmo que resultado seja inconclusivo) e não esqueça de colocar um resumo dos pontos que julgar mais interessantes do seu projeto.\n",
        "\n",
        "\n",
        "\n",
        "E para que o seu projeto tenha a oportunidade de ser avalido pelo Thiago G. Santos e Átila Iamarino, ao vivo na **live de revisão de projetos** submeta o link compartilhado do seu notebook [neste formulário](https://docs.google.com/forms/d/e/1FAIpQLSd1jemhvdo8sM6e-bgOryyZ2P3YuMO6E_mUQXabyBX_xhuZQQ/viewform?usp=sf_link) até dia 22/11 às 23h59.\n",
        "\n",
        "Para facilitar a vida dos seus instrutores favoritos, no momento da correção, algumas dicas de como estruturar seu projeto:\n",
        "\n",
        "- Como título do seu **Colab** coloque seu nome (Ex: Thiago_Gonçalves.ipynb)\n",
        "- Crie um resumo das suas análises na parte superior do notebook\n",
        "- Informe no resumo os dados que vc vai analisar (Ex: Finaceiros e Internações)\n",
        "\n",
        "Qualquer dúvida não deixe de perguntar no Discord, compatilhe seu projeto nas redes sociais e crie um repositório no github, esse é o início do seu portifólio em Data Science.\n",
        "\n",
        "\n",
        "\n",
        "Fique a vontade para utilizar esse notebook como template projeto.\n",
        "\n"
      ]
    },
    {
      "cell_type": "markdown",
      "metadata": {
        "id": "RshO3GgDFGhB"
      },
      "source": [
        "## Resumo:\n",
        "\n",
        "Faça aqui o resumo das suas analises, destacando os pontos principais do seu projeto"
      ]
    },
    {
      "cell_type": "markdown",
      "metadata": {
        "id": "sjFMcZXg0-FD"
      },
      "source": [
        "*   Foi analisada a base dos casos de COVID-19 baixadas do projeto BRASIL.IO.\n",
        "*   Primeiro analisou-se os valores acumulados por estado, procurando discrepâncias nos rankings do número de casos e o número de mortes.\n",
        "*   Após esta análise, destacou-se a diferença na letalidade de Rio de Janeiro e Santa Catarina. O que podemos ver nos dados que evidência essa diferença de comportamento?\n",
        "*   Pode-se observar que: a curva de contágio de Santa Catarina é mais achatada que a do Rio de Janeiro;\n",
        "*   Os dados do Rio de Janeiro apresentam indícios de subnotificação de casos.\n",
        "\n",
        "\n"
      ]
    },
    {
      "cell_type": "markdown",
      "metadata": {
        "id": "YJaNprdeFN7n"
      },
      "source": [
        "## Análise dos dados:\n",
        "\n",
        "Inicie aqui o desenvolvimento do seu projeto, não esqueça de adicionar textos curtos e objetivos para que os avaliadores entendam sua linha de raciocínio e as conclusões que você está chegando crie uma narrativa convincente e coerênte aos dados analisados."
      ]
    },
    {
      "cell_type": "markdown",
      "metadata": {
        "id": "wbQ30EuUz6lw"
      },
      "source": [
        "###Análise do conteúdo do Data Frame"
      ]
    },
    {
      "cell_type": "code",
      "metadata": {
        "id": "zw4S_LkkFNa2"
      },
      "source": [
        "import pandas as pd\n",
        "from matplotlib import cm\n",
        "import matplotlib.pyplot as plt\n",
        "import matplotlib.ticker as ticker\n",
        "\n",
        "import numpy as np\n",
        "import seaborn as sns\n",
        "\n",
        "pd.options.display.float_format = \"{:.2f}\".format"
      ],
      "execution_count": null,
      "outputs": []
    },
    {
      "cell_type": "code",
      "metadata": {
        "colab": {
          "base_uri": "https://localhost:8080/"
        },
        "id": "dgr7LBS40f_O",
        "outputId": "1a248e74-a9fa-476b-d9b9-f32f7d10226e"
      },
      "source": [
        "from google.colab import drive\n",
        "drive.mount('/content/drive')"
      ],
      "execution_count": null,
      "outputs": [
        {
          "output_type": "stream",
          "text": [
            "Mounted at /content/drive\n"
          ],
          "name": "stdout"
        }
      ]
    },
    {
      "cell_type": "code",
      "metadata": {
        "id": "wWHrc23HMW07",
        "colab": {
          "base_uri": "https://localhost:8080/",
          "height": 305
        },
        "outputId": "0620dcc9-237b-444a-f8c7-68cba5a149dd"
      },
      "source": [
        "#os dados trabalhados serão os do COVID-19, do Brasil.IO\n",
        "dados = pd.read_csv(\"/content/drive/MyDrive/Bootcamp/caso.csv\")\n",
        "\n",
        "dados.head()"
      ],
      "execution_count": null,
      "outputs": [
        {
          "output_type": "execute_result",
          "data": {
            "text/html": [
              "<div>\n",
              "<style scoped>\n",
              "    .dataframe tbody tr th:only-of-type {\n",
              "        vertical-align: middle;\n",
              "    }\n",
              "\n",
              "    .dataframe tbody tr th {\n",
              "        vertical-align: top;\n",
              "    }\n",
              "\n",
              "    .dataframe thead th {\n",
              "        text-align: right;\n",
              "    }\n",
              "</style>\n",
              "<table border=\"1\" class=\"dataframe\">\n",
              "  <thead>\n",
              "    <tr style=\"text-align: right;\">\n",
              "      <th></th>\n",
              "      <th>date</th>\n",
              "      <th>state</th>\n",
              "      <th>city</th>\n",
              "      <th>place_type</th>\n",
              "      <th>confirmed</th>\n",
              "      <th>deaths</th>\n",
              "      <th>order_for_place</th>\n",
              "      <th>is_last</th>\n",
              "      <th>estimated_population_2019</th>\n",
              "      <th>estimated_population</th>\n",
              "      <th>city_ibge_code</th>\n",
              "      <th>confirmed_per_100k_inhabitants</th>\n",
              "      <th>death_rate</th>\n",
              "    </tr>\n",
              "  </thead>\n",
              "  <tbody>\n",
              "    <tr>\n",
              "      <th>0</th>\n",
              "      <td>2020-11-05</td>\n",
              "      <td>AC</td>\n",
              "      <td>NaN</td>\n",
              "      <td>state</td>\n",
              "      <td>31248</td>\n",
              "      <td>697</td>\n",
              "      <td>234</td>\n",
              "      <td>True</td>\n",
              "      <td>881935.0</td>\n",
              "      <td>894470.0</td>\n",
              "      <td>12.0</td>\n",
              "      <td>3493.46540</td>\n",
              "      <td>0.0223</td>\n",
              "    </tr>\n",
              "    <tr>\n",
              "      <th>1</th>\n",
              "      <td>2020-11-04</td>\n",
              "      <td>AC</td>\n",
              "      <td>NaN</td>\n",
              "      <td>state</td>\n",
              "      <td>31218</td>\n",
              "      <td>696</td>\n",
              "      <td>233</td>\n",
              "      <td>False</td>\n",
              "      <td>881935.0</td>\n",
              "      <td>894470.0</td>\n",
              "      <td>12.0</td>\n",
              "      <td>3490.11146</td>\n",
              "      <td>0.0223</td>\n",
              "    </tr>\n",
              "    <tr>\n",
              "      <th>2</th>\n",
              "      <td>2020-11-03</td>\n",
              "      <td>AC</td>\n",
              "      <td>NaN</td>\n",
              "      <td>state</td>\n",
              "      <td>30962</td>\n",
              "      <td>695</td>\n",
              "      <td>232</td>\n",
              "      <td>False</td>\n",
              "      <td>881935.0</td>\n",
              "      <td>894470.0</td>\n",
              "      <td>12.0</td>\n",
              "      <td>3461.49116</td>\n",
              "      <td>0.0224</td>\n",
              "    </tr>\n",
              "    <tr>\n",
              "      <th>3</th>\n",
              "      <td>2020-11-02</td>\n",
              "      <td>AC</td>\n",
              "      <td>NaN</td>\n",
              "      <td>state</td>\n",
              "      <td>30954</td>\n",
              "      <td>693</td>\n",
              "      <td>231</td>\n",
              "      <td>False</td>\n",
              "      <td>881935.0</td>\n",
              "      <td>894470.0</td>\n",
              "      <td>12.0</td>\n",
              "      <td>3460.59678</td>\n",
              "      <td>0.0224</td>\n",
              "    </tr>\n",
              "    <tr>\n",
              "      <th>4</th>\n",
              "      <td>2020-11-01</td>\n",
              "      <td>AC</td>\n",
              "      <td>NaN</td>\n",
              "      <td>state</td>\n",
              "      <td>30951</td>\n",
              "      <td>693</td>\n",
              "      <td>230</td>\n",
              "      <td>False</td>\n",
              "      <td>881935.0</td>\n",
              "      <td>894470.0</td>\n",
              "      <td>12.0</td>\n",
              "      <td>3460.26138</td>\n",
              "      <td>0.0224</td>\n",
              "    </tr>\n",
              "  </tbody>\n",
              "</table>\n",
              "</div>"
            ],
            "text/plain": [
              "         date state  ... confirmed_per_100k_inhabitants death_rate\n",
              "0  2020-11-05    AC  ...                     3493.46540     0.0223\n",
              "1  2020-11-04    AC  ...                     3490.11146     0.0223\n",
              "2  2020-11-03    AC  ...                     3461.49116     0.0224\n",
              "3  2020-11-02    AC  ...                     3460.59678     0.0224\n",
              "4  2020-11-01    AC  ...                     3460.26138     0.0224\n",
              "\n",
              "[5 rows x 13 columns]"
            ]
          },
          "metadata": {
            "tags": []
          },
          "execution_count": 7
        }
      ]
    },
    {
      "cell_type": "code",
      "metadata": {
        "id": "1dOSuIb7kETQ",
        "colab": {
          "base_uri": "https://localhost:8080/"
        },
        "outputId": "3e941fcd-fef1-46d8-973b-a2112e7f0604"
      },
      "source": [
        "# verificar o número de linhas e colunas\n",
        "dados.shape"
      ],
      "execution_count": null,
      "outputs": [
        {
          "output_type": "execute_result",
          "data": {
            "text/plain": [
              "(936870, 13)"
            ]
          },
          "metadata": {
            "tags": []
          },
          "execution_count": 8
        }
      ]
    },
    {
      "cell_type": "code",
      "metadata": {
        "colab": {
          "base_uri": "https://localhost:8080/"
        },
        "id": "OTURg4e00vfv",
        "outputId": "4e4536c9-5cf9-46a6-febe-365ae6233f26"
      },
      "source": [
        "# linhas que tiverem menos de 936870 não nulos, possuem dados faltantes ou sem informação.\n",
        "# é possível avaliar o tipo de variável de cada informação (inteiro, booleano, pt flutuante, etc.)\n",
        "dados.info()"
      ],
      "execution_count": null,
      "outputs": [
        {
          "output_type": "stream",
          "text": [
            "<class 'pandas.core.frame.DataFrame'>\n",
            "RangeIndex: 936870 entries, 0 to 936869\n",
            "Data columns (total 13 columns):\n",
            " #   Column                          Non-Null Count   Dtype  \n",
            "---  ------                          --------------   -----  \n",
            " 0   date                            936870 non-null  object \n",
            " 1   state                           936870 non-null  object \n",
            " 2   city                            930535 non-null  object \n",
            " 3   place_type                      936870 non-null  object \n",
            " 4   confirmed                       936870 non-null  int64  \n",
            " 5   deaths                          936870 non-null  int64  \n",
            " 6   order_for_place                 936870 non-null  int64  \n",
            " 7   is_last                         936870 non-null  bool   \n",
            " 8   estimated_population_2019       933215 non-null  float64\n",
            " 9   estimated_population            933215 non-null  float64\n",
            " 10  city_ibge_code                  933215 non-null  float64\n",
            " 11  confirmed_per_100k_inhabitants  919888 non-null  float64\n",
            " 12  death_rate                      936870 non-null  float64\n",
            "dtypes: bool(1), float64(5), int64(3), object(4)\n",
            "memory usage: 86.7+ MB\n"
          ],
          "name": "stdout"
        }
      ]
    },
    {
      "cell_type": "code",
      "metadata": {
        "colab": {
          "base_uri": "https://localhost:8080/"
        },
        "id": "qY-IPPea37_P",
        "outputId": "844621f6-4b47-433d-e654-384cc9c0d5d1"
      },
      "source": [
        "# avaliando quais e onde são os dados faltantes\n",
        "dados.isnull().sum(axis=0)"
      ],
      "execution_count": null,
      "outputs": [
        {
          "output_type": "execute_result",
          "data": {
            "text/plain": [
              "date                                  0\n",
              "state                                 0\n",
              "city                               6335\n",
              "place_type                            0\n",
              "confirmed                             0\n",
              "deaths                                0\n",
              "order_for_place                       0\n",
              "is_last                               0\n",
              "estimated_population_2019          3655\n",
              "estimated_population               3655\n",
              "city_ibge_code                     3655\n",
              "confirmed_per_100k_inhabitants    16982\n",
              "death_rate                            0\n",
              "dtype: int64"
            ]
          },
          "metadata": {
            "tags": []
          },
          "execution_count": 17
        }
      ]
    },
    {
      "cell_type": "code",
      "metadata": {
        "colab": {
          "base_uri": "https://localhost:8080/"
        },
        "id": "_HOZhb_D4kz3",
        "outputId": "fe0ea95e-629e-4801-ced4-2e9c77d21626"
      },
      "source": [
        "#Os valores NaN nas colunas estimated_pop... e city_ibge_code aparecem como Importados/Indefinidos em city\n",
        "dados.query('city_ibge_code == \"NaN\"').city.value_counts()"
      ],
      "execution_count": null,
      "outputs": [
        {
          "output_type": "execute_result",
          "data": {
            "text/plain": [
              "Importados/Indefinidos    3655\n",
              "Name: city, dtype: int64"
            ]
          },
          "metadata": {
            "tags": []
          },
          "execution_count": 18
        }
      ]
    },
    {
      "cell_type": "code",
      "metadata": {
        "colab": {
          "base_uri": "https://localhost:8080/"
        },
        "id": "1EfKhdaC06Z3",
        "outputId": "2fa439ac-810e-40ce-8c7c-ba56d5d3c0cb"
      },
      "source": [
        "# verificando quantos estados aparecem nos dados(aparecem todos os estados?)\n",
        "dados['state'].nunique()"
      ],
      "execution_count": null,
      "outputs": [
        {
          "output_type": "execute_result",
          "data": {
            "text/plain": [
              "27"
            ]
          },
          "metadata": {
            "tags": []
          },
          "execution_count": 22
        }
      ]
    },
    {
      "cell_type": "code",
      "metadata": {
        "colab": {
          "base_uri": "https://localhost:8080/"
        },
        "id": "v3jarmg26mUI",
        "outputId": "06d0bd2c-7236-4fae-b4fb-52a30d45bae7"
      },
      "source": [
        "dados['state'].unique()"
      ],
      "execution_count": null,
      "outputs": [
        {
          "output_type": "execute_result",
          "data": {
            "text/plain": [
              "array(['AC', 'AP', 'AM', 'AL', 'DF', 'CE', 'ES', 'BA', 'MS', 'MA', 'GO',\n",
              "       'MT', 'PA', 'PB', 'PE', 'PI', 'MG', 'RO', 'RJ', 'RN', 'PR', 'RR',\n",
              "       'SE', 'SC', 'RS', 'TO', 'SP'], dtype=object)"
            ]
          },
          "metadata": {
            "tags": []
          },
          "execution_count": 23
        }
      ]
    },
    {
      "cell_type": "code",
      "metadata": {
        "colab": {
          "base_uri": "https://localhost:8080/"
        },
        "id": "PKT5blzK1aq_",
        "outputId": "3eb0fbaf-8923-49af-ab08-6dab52b83bf5"
      },
      "source": [
        "# quantas cidades aparecem nos dados\n",
        "dados['city'].nunique()"
      ],
      "execution_count": null,
      "outputs": [
        {
          "output_type": "execute_result",
          "data": {
            "text/plain": [
              "5295"
            ]
          },
          "metadata": {
            "tags": []
          },
          "execution_count": 16
        }
      ]
    },
    {
      "cell_type": "code",
      "metadata": {
        "colab": {
          "base_uri": "https://localhost:8080/"
        },
        "id": "vJ7XGPca7K3v",
        "outputId": "dc5d3862-e6d7-4e08-9020-f649e9b4efa7"
      },
      "source": [
        "# outros valores faltantes nas cidades são dados contablizando por estado\n",
        "dados['place_type'].unique()"
      ],
      "execution_count": null,
      "outputs": [
        {
          "output_type": "execute_result",
          "data": {
            "text/plain": [
              "array(['state', 'city'], dtype=object)"
            ]
          },
          "metadata": {
            "tags": []
          },
          "execution_count": 24
        }
      ]
    },
    {
      "cell_type": "markdown",
      "metadata": {
        "id": "6-qz8NVR58GP"
      },
      "source": [
        "###Preparando os dados"
      ]
    },
    {
      "cell_type": "code",
      "metadata": {
        "colab": {
          "base_uri": "https://localhost:8080/",
          "height": 305
        },
        "id": "9Rl_W9v83Pi_",
        "outputId": "3554f4e6-d1e6-4238-b3b9-e66eff8c2b02"
      },
      "source": [
        "# transformando a data de string em datetime\n",
        "data = pd.to_datetime(dados['date'], errors='coerce', format='%Y/%m/%d')\n",
        "data\n",
        "dados['date'] = data\n",
        "type(dados['date'][0])\n",
        "\n",
        "dados.head()"
      ],
      "execution_count": null,
      "outputs": [
        {
          "output_type": "execute_result",
          "data": {
            "text/html": [
              "<div>\n",
              "<style scoped>\n",
              "    .dataframe tbody tr th:only-of-type {\n",
              "        vertical-align: middle;\n",
              "    }\n",
              "\n",
              "    .dataframe tbody tr th {\n",
              "        vertical-align: top;\n",
              "    }\n",
              "\n",
              "    .dataframe thead th {\n",
              "        text-align: right;\n",
              "    }\n",
              "</style>\n",
              "<table border=\"1\" class=\"dataframe\">\n",
              "  <thead>\n",
              "    <tr style=\"text-align: right;\">\n",
              "      <th></th>\n",
              "      <th>date</th>\n",
              "      <th>state</th>\n",
              "      <th>city</th>\n",
              "      <th>place_type</th>\n",
              "      <th>confirmed</th>\n",
              "      <th>deaths</th>\n",
              "      <th>order_for_place</th>\n",
              "      <th>is_last</th>\n",
              "      <th>estimated_population_2019</th>\n",
              "      <th>estimated_population</th>\n",
              "      <th>city_ibge_code</th>\n",
              "      <th>confirmed_per_100k_inhabitants</th>\n",
              "      <th>death_rate</th>\n",
              "      <th>region</th>\n",
              "    </tr>\n",
              "  </thead>\n",
              "  <tbody>\n",
              "    <tr>\n",
              "      <th>0</th>\n",
              "      <td>2020-11-05</td>\n",
              "      <td>AC</td>\n",
              "      <td>NaN</td>\n",
              "      <td>state</td>\n",
              "      <td>31248</td>\n",
              "      <td>697</td>\n",
              "      <td>234</td>\n",
              "      <td>True</td>\n",
              "      <td>881935.00</td>\n",
              "      <td>894470.00</td>\n",
              "      <td>12.00</td>\n",
              "      <td>3493.47</td>\n",
              "      <td>0.02</td>\n",
              "      <td>Norte</td>\n",
              "    </tr>\n",
              "    <tr>\n",
              "      <th>1</th>\n",
              "      <td>2020-11-04</td>\n",
              "      <td>AC</td>\n",
              "      <td>NaN</td>\n",
              "      <td>state</td>\n",
              "      <td>31218</td>\n",
              "      <td>696</td>\n",
              "      <td>233</td>\n",
              "      <td>False</td>\n",
              "      <td>881935.00</td>\n",
              "      <td>894470.00</td>\n",
              "      <td>12.00</td>\n",
              "      <td>3490.11</td>\n",
              "      <td>0.02</td>\n",
              "      <td>Norte</td>\n",
              "    </tr>\n",
              "    <tr>\n",
              "      <th>2</th>\n",
              "      <td>2020-11-03</td>\n",
              "      <td>AC</td>\n",
              "      <td>NaN</td>\n",
              "      <td>state</td>\n",
              "      <td>30962</td>\n",
              "      <td>695</td>\n",
              "      <td>232</td>\n",
              "      <td>False</td>\n",
              "      <td>881935.00</td>\n",
              "      <td>894470.00</td>\n",
              "      <td>12.00</td>\n",
              "      <td>3461.49</td>\n",
              "      <td>0.02</td>\n",
              "      <td>Norte</td>\n",
              "    </tr>\n",
              "    <tr>\n",
              "      <th>3</th>\n",
              "      <td>2020-11-02</td>\n",
              "      <td>AC</td>\n",
              "      <td>NaN</td>\n",
              "      <td>state</td>\n",
              "      <td>30954</td>\n",
              "      <td>693</td>\n",
              "      <td>231</td>\n",
              "      <td>False</td>\n",
              "      <td>881935.00</td>\n",
              "      <td>894470.00</td>\n",
              "      <td>12.00</td>\n",
              "      <td>3460.60</td>\n",
              "      <td>0.02</td>\n",
              "      <td>Norte</td>\n",
              "    </tr>\n",
              "    <tr>\n",
              "      <th>4</th>\n",
              "      <td>2020-11-01</td>\n",
              "      <td>AC</td>\n",
              "      <td>NaN</td>\n",
              "      <td>state</td>\n",
              "      <td>30951</td>\n",
              "      <td>693</td>\n",
              "      <td>230</td>\n",
              "      <td>False</td>\n",
              "      <td>881935.00</td>\n",
              "      <td>894470.00</td>\n",
              "      <td>12.00</td>\n",
              "      <td>3460.26</td>\n",
              "      <td>0.02</td>\n",
              "      <td>Norte</td>\n",
              "    </tr>\n",
              "  </tbody>\n",
              "</table>\n",
              "</div>"
            ],
            "text/plain": [
              "        date state city  ... confirmed_per_100k_inhabitants  death_rate  region\n",
              "0 2020-11-05    AC  NaN  ...                        3493.47        0.02   Norte\n",
              "1 2020-11-04    AC  NaN  ...                        3490.11        0.02   Norte\n",
              "2 2020-11-03    AC  NaN  ...                        3461.49        0.02   Norte\n",
              "3 2020-11-02    AC  NaN  ...                        3460.60        0.02   Norte\n",
              "4 2020-11-01    AC  NaN  ...                        3460.26        0.02   Norte\n",
              "\n",
              "[5 rows x 14 columns]"
            ]
          },
          "metadata": {
            "tags": []
          },
          "execution_count": 128
        }
      ]
    },
    {
      "cell_type": "code",
      "metadata": {
        "colab": {
          "base_uri": "https://localhost:8080/",
          "height": 305
        },
        "id": "sIi-oREk6Ee7",
        "outputId": "83673124-ea78-461f-fe0f-63b86bc51f84"
      },
      "source": [
        "# acrescentar a região utilizando um dicionário\n",
        "dados['region'] = dados['state']\n",
        "\n",
        "regiao = {\n",
        "    'AC': 'Norte',\n",
        "    'AL': 'Nordeste',\n",
        "    'AM': 'Norte',\n",
        "    'AP': 'Norte',\n",
        "    'BA': 'Nordeste',\n",
        "    'CE': 'Nordeste',\n",
        "    'DF': 'Centro Oeste',\n",
        "    'ES': 'Sudeste',\n",
        "    'GO': 'Centro Oeste',\n",
        "    'MA': 'Nordeste',\n",
        "    'MG': 'Sudeste',\n",
        "    'MS': 'Centro Oeste',\n",
        "    'MT': 'Centro Oeste',\n",
        "    'PA': 'Norte',\n",
        "    'PB': 'Nordeste',\n",
        "    'PE': 'Nordeste',\n",
        "    'PI': 'Nordeste',\n",
        "    'PR': 'Sul',\n",
        "    'RJ': 'Sudeste',\n",
        "    'RN': 'Nordeste',\n",
        "    'RO': 'Norte',\n",
        "    'RR': 'Norte',\n",
        "    'RS': 'Sul',\n",
        "    'SC': 'Sul',\n",
        "    'SE': 'Nordeste',\n",
        "    'SP': 'Sudeste',\n",
        "    'TO': 'Norte'\n",
        "    }\n",
        "\n",
        "dados['region'].replace(regiao, inplace=True)\n",
        "dados.head()"
      ],
      "execution_count": null,
      "outputs": [
        {
          "output_type": "execute_result",
          "data": {
            "text/html": [
              "<div>\n",
              "<style scoped>\n",
              "    .dataframe tbody tr th:only-of-type {\n",
              "        vertical-align: middle;\n",
              "    }\n",
              "\n",
              "    .dataframe tbody tr th {\n",
              "        vertical-align: top;\n",
              "    }\n",
              "\n",
              "    .dataframe thead th {\n",
              "        text-align: right;\n",
              "    }\n",
              "</style>\n",
              "<table border=\"1\" class=\"dataframe\">\n",
              "  <thead>\n",
              "    <tr style=\"text-align: right;\">\n",
              "      <th></th>\n",
              "      <th>date</th>\n",
              "      <th>state</th>\n",
              "      <th>city</th>\n",
              "      <th>place_type</th>\n",
              "      <th>confirmed</th>\n",
              "      <th>deaths</th>\n",
              "      <th>order_for_place</th>\n",
              "      <th>is_last</th>\n",
              "      <th>estimated_population_2019</th>\n",
              "      <th>estimated_population</th>\n",
              "      <th>city_ibge_code</th>\n",
              "      <th>confirmed_per_100k_inhabitants</th>\n",
              "      <th>death_rate</th>\n",
              "      <th>region</th>\n",
              "    </tr>\n",
              "  </thead>\n",
              "  <tbody>\n",
              "    <tr>\n",
              "      <th>0</th>\n",
              "      <td>2020-11-05</td>\n",
              "      <td>AC</td>\n",
              "      <td>NaN</td>\n",
              "      <td>state</td>\n",
              "      <td>31248</td>\n",
              "      <td>697</td>\n",
              "      <td>234</td>\n",
              "      <td>True</td>\n",
              "      <td>881935.00</td>\n",
              "      <td>894470.00</td>\n",
              "      <td>12.00</td>\n",
              "      <td>3493.47</td>\n",
              "      <td>0.02</td>\n",
              "      <td>Norte</td>\n",
              "    </tr>\n",
              "    <tr>\n",
              "      <th>1</th>\n",
              "      <td>2020-11-04</td>\n",
              "      <td>AC</td>\n",
              "      <td>NaN</td>\n",
              "      <td>state</td>\n",
              "      <td>31218</td>\n",
              "      <td>696</td>\n",
              "      <td>233</td>\n",
              "      <td>False</td>\n",
              "      <td>881935.00</td>\n",
              "      <td>894470.00</td>\n",
              "      <td>12.00</td>\n",
              "      <td>3490.11</td>\n",
              "      <td>0.02</td>\n",
              "      <td>Norte</td>\n",
              "    </tr>\n",
              "    <tr>\n",
              "      <th>2</th>\n",
              "      <td>2020-11-03</td>\n",
              "      <td>AC</td>\n",
              "      <td>NaN</td>\n",
              "      <td>state</td>\n",
              "      <td>30962</td>\n",
              "      <td>695</td>\n",
              "      <td>232</td>\n",
              "      <td>False</td>\n",
              "      <td>881935.00</td>\n",
              "      <td>894470.00</td>\n",
              "      <td>12.00</td>\n",
              "      <td>3461.49</td>\n",
              "      <td>0.02</td>\n",
              "      <td>Norte</td>\n",
              "    </tr>\n",
              "    <tr>\n",
              "      <th>3</th>\n",
              "      <td>2020-11-02</td>\n",
              "      <td>AC</td>\n",
              "      <td>NaN</td>\n",
              "      <td>state</td>\n",
              "      <td>30954</td>\n",
              "      <td>693</td>\n",
              "      <td>231</td>\n",
              "      <td>False</td>\n",
              "      <td>881935.00</td>\n",
              "      <td>894470.00</td>\n",
              "      <td>12.00</td>\n",
              "      <td>3460.60</td>\n",
              "      <td>0.02</td>\n",
              "      <td>Norte</td>\n",
              "    </tr>\n",
              "    <tr>\n",
              "      <th>4</th>\n",
              "      <td>2020-11-01</td>\n",
              "      <td>AC</td>\n",
              "      <td>NaN</td>\n",
              "      <td>state</td>\n",
              "      <td>30951</td>\n",
              "      <td>693</td>\n",
              "      <td>230</td>\n",
              "      <td>False</td>\n",
              "      <td>881935.00</td>\n",
              "      <td>894470.00</td>\n",
              "      <td>12.00</td>\n",
              "      <td>3460.26</td>\n",
              "      <td>0.02</td>\n",
              "      <td>Norte</td>\n",
              "    </tr>\n",
              "  </tbody>\n",
              "</table>\n",
              "</div>"
            ],
            "text/plain": [
              "        date state city  ... confirmed_per_100k_inhabitants  death_rate  region\n",
              "0 2020-11-05    AC  NaN  ...                        3493.47        0.02   Norte\n",
              "1 2020-11-04    AC  NaN  ...                        3490.11        0.02   Norte\n",
              "2 2020-11-03    AC  NaN  ...                        3461.49        0.02   Norte\n",
              "3 2020-11-02    AC  NaN  ...                        3460.60        0.02   Norte\n",
              "4 2020-11-01    AC  NaN  ...                        3460.26        0.02   Norte\n",
              "\n",
              "[5 rows x 14 columns]"
            ]
          },
          "metadata": {
            "tags": []
          },
          "execution_count": 129
        }
      ]
    },
    {
      "cell_type": "code",
      "metadata": {
        "colab": {
          "base_uri": "https://localhost:8080/",
          "height": 305
        },
        "id": "HMHJb7Qv8Yuk",
        "outputId": "b8b81eb7-84ef-4b8f-f342-890efca7a431"
      },
      "source": [
        "# criando um df  com os dados por estado\n",
        "dados_estado = dados[dados[\"place_type\"] == \"state\"].copy()\n",
        "dados_estado.drop(\"city\", axis=1, inplace=True)\n",
        "\n",
        "dados_estado.head()"
      ],
      "execution_count": null,
      "outputs": [
        {
          "output_type": "execute_result",
          "data": {
            "text/html": [
              "<div>\n",
              "<style scoped>\n",
              "    .dataframe tbody tr th:only-of-type {\n",
              "        vertical-align: middle;\n",
              "    }\n",
              "\n",
              "    .dataframe tbody tr th {\n",
              "        vertical-align: top;\n",
              "    }\n",
              "\n",
              "    .dataframe thead th {\n",
              "        text-align: right;\n",
              "    }\n",
              "</style>\n",
              "<table border=\"1\" class=\"dataframe\">\n",
              "  <thead>\n",
              "    <tr style=\"text-align: right;\">\n",
              "      <th></th>\n",
              "      <th>date</th>\n",
              "      <th>state</th>\n",
              "      <th>place_type</th>\n",
              "      <th>confirmed</th>\n",
              "      <th>deaths</th>\n",
              "      <th>order_for_place</th>\n",
              "      <th>is_last</th>\n",
              "      <th>estimated_population_2019</th>\n",
              "      <th>estimated_population</th>\n",
              "      <th>city_ibge_code</th>\n",
              "      <th>confirmed_per_100k_inhabitants</th>\n",
              "      <th>death_rate</th>\n",
              "      <th>region</th>\n",
              "    </tr>\n",
              "  </thead>\n",
              "  <tbody>\n",
              "    <tr>\n",
              "      <th>0</th>\n",
              "      <td>2020-11-05</td>\n",
              "      <td>AC</td>\n",
              "      <td>state</td>\n",
              "      <td>31248</td>\n",
              "      <td>697</td>\n",
              "      <td>234</td>\n",
              "      <td>True</td>\n",
              "      <td>881935.00</td>\n",
              "      <td>894470.00</td>\n",
              "      <td>12.00</td>\n",
              "      <td>3493.47</td>\n",
              "      <td>0.02</td>\n",
              "      <td>Norte</td>\n",
              "    </tr>\n",
              "    <tr>\n",
              "      <th>1</th>\n",
              "      <td>2020-11-04</td>\n",
              "      <td>AC</td>\n",
              "      <td>state</td>\n",
              "      <td>31218</td>\n",
              "      <td>696</td>\n",
              "      <td>233</td>\n",
              "      <td>False</td>\n",
              "      <td>881935.00</td>\n",
              "      <td>894470.00</td>\n",
              "      <td>12.00</td>\n",
              "      <td>3490.11</td>\n",
              "      <td>0.02</td>\n",
              "      <td>Norte</td>\n",
              "    </tr>\n",
              "    <tr>\n",
              "      <th>2</th>\n",
              "      <td>2020-11-03</td>\n",
              "      <td>AC</td>\n",
              "      <td>state</td>\n",
              "      <td>30962</td>\n",
              "      <td>695</td>\n",
              "      <td>232</td>\n",
              "      <td>False</td>\n",
              "      <td>881935.00</td>\n",
              "      <td>894470.00</td>\n",
              "      <td>12.00</td>\n",
              "      <td>3461.49</td>\n",
              "      <td>0.02</td>\n",
              "      <td>Norte</td>\n",
              "    </tr>\n",
              "    <tr>\n",
              "      <th>3</th>\n",
              "      <td>2020-11-02</td>\n",
              "      <td>AC</td>\n",
              "      <td>state</td>\n",
              "      <td>30954</td>\n",
              "      <td>693</td>\n",
              "      <td>231</td>\n",
              "      <td>False</td>\n",
              "      <td>881935.00</td>\n",
              "      <td>894470.00</td>\n",
              "      <td>12.00</td>\n",
              "      <td>3460.60</td>\n",
              "      <td>0.02</td>\n",
              "      <td>Norte</td>\n",
              "    </tr>\n",
              "    <tr>\n",
              "      <th>4</th>\n",
              "      <td>2020-11-01</td>\n",
              "      <td>AC</td>\n",
              "      <td>state</td>\n",
              "      <td>30951</td>\n",
              "      <td>693</td>\n",
              "      <td>230</td>\n",
              "      <td>False</td>\n",
              "      <td>881935.00</td>\n",
              "      <td>894470.00</td>\n",
              "      <td>12.00</td>\n",
              "      <td>3460.26</td>\n",
              "      <td>0.02</td>\n",
              "      <td>Norte</td>\n",
              "    </tr>\n",
              "  </tbody>\n",
              "</table>\n",
              "</div>"
            ],
            "text/plain": [
              "        date state  ... death_rate  region\n",
              "0 2020-11-05    AC  ...       0.02   Norte\n",
              "1 2020-11-04    AC  ...       0.02   Norte\n",
              "2 2020-11-03    AC  ...       0.02   Norte\n",
              "3 2020-11-02    AC  ...       0.02   Norte\n",
              "4 2020-11-01    AC  ...       0.02   Norte\n",
              "\n",
              "[5 rows x 13 columns]"
            ]
          },
          "metadata": {
            "tags": []
          },
          "execution_count": 130
        }
      ]
    },
    {
      "cell_type": "code",
      "metadata": {
        "colab": {
          "base_uri": "https://localhost:8080/",
          "height": 305
        },
        "id": "3UOzid_f-VzZ",
        "outputId": "1651867e-2e43-47b9-9ae7-1d601f6b1489"
      },
      "source": [
        "#separando os acumulados por estado\n",
        "acumulado = dados_estado[dados_estado['is_last'] == True].reset_index()\n",
        "acumulado.sort_values(by = 'confirmed', ascending = True, \n",
        "                                   inplace = True)\n",
        "\n",
        "acumulado.head()"
      ],
      "execution_count": null,
      "outputs": [
        {
          "output_type": "execute_result",
          "data": {
            "text/html": [
              "<div>\n",
              "<style scoped>\n",
              "    .dataframe tbody tr th:only-of-type {\n",
              "        vertical-align: middle;\n",
              "    }\n",
              "\n",
              "    .dataframe tbody tr th {\n",
              "        vertical-align: top;\n",
              "    }\n",
              "\n",
              "    .dataframe thead th {\n",
              "        text-align: right;\n",
              "    }\n",
              "</style>\n",
              "<table border=\"1\" class=\"dataframe\">\n",
              "  <thead>\n",
              "    <tr style=\"text-align: right;\">\n",
              "      <th></th>\n",
              "      <th>index</th>\n",
              "      <th>date</th>\n",
              "      <th>state</th>\n",
              "      <th>place_type</th>\n",
              "      <th>confirmed</th>\n",
              "      <th>deaths</th>\n",
              "      <th>order_for_place</th>\n",
              "      <th>is_last</th>\n",
              "      <th>estimated_population_2019</th>\n",
              "      <th>estimated_population</th>\n",
              "      <th>city_ibge_code</th>\n",
              "      <th>confirmed_per_100k_inhabitants</th>\n",
              "      <th>death_rate</th>\n",
              "      <th>region</th>\n",
              "    </tr>\n",
              "  </thead>\n",
              "  <tbody>\n",
              "    <tr>\n",
              "      <th>0</th>\n",
              "      <td>0</td>\n",
              "      <td>2020-11-05</td>\n",
              "      <td>AC</td>\n",
              "      <td>state</td>\n",
              "      <td>31248</td>\n",
              "      <td>697</td>\n",
              "      <td>234</td>\n",
              "      <td>True</td>\n",
              "      <td>881935.00</td>\n",
              "      <td>894470.00</td>\n",
              "      <td>12.00</td>\n",
              "      <td>3493.47</td>\n",
              "      <td>0.02</td>\n",
              "      <td>Norte</td>\n",
              "    </tr>\n",
              "    <tr>\n",
              "      <th>1</th>\n",
              "      <td>4247</td>\n",
              "      <td>2020-11-03</td>\n",
              "      <td>AP</td>\n",
              "      <td>state</td>\n",
              "      <td>52832</td>\n",
              "      <td>751</td>\n",
              "      <td>228</td>\n",
              "      <td>True</td>\n",
              "      <td>845731.00</td>\n",
              "      <td>861773.00</td>\n",
              "      <td>16.00</td>\n",
              "      <td>6130.62</td>\n",
              "      <td>0.01</td>\n",
              "      <td>Norte</td>\n",
              "    </tr>\n",
              "    <tr>\n",
              "      <th>21</th>\n",
              "      <td>651937</td>\n",
              "      <td>2020-11-04</td>\n",
              "      <td>RR</td>\n",
              "      <td>state</td>\n",
              "      <td>58304</td>\n",
              "      <td>695</td>\n",
              "      <td>226</td>\n",
              "      <td>True</td>\n",
              "      <td>605761.00</td>\n",
              "      <td>631181.00</td>\n",
              "      <td>14.00</td>\n",
              "      <td>9237.29</td>\n",
              "      <td>0.01</td>\n",
              "      <td>Norte</td>\n",
              "    </tr>\n",
              "    <tr>\n",
              "      <th>17</th>\n",
              "      <td>539186</td>\n",
              "      <td>2020-11-05</td>\n",
              "      <td>RO</td>\n",
              "      <td>state</td>\n",
              "      <td>72630</td>\n",
              "      <td>1470</td>\n",
              "      <td>222</td>\n",
              "      <td>True</td>\n",
              "      <td>1777225.00</td>\n",
              "      <td>1796460.00</td>\n",
              "      <td>11.00</td>\n",
              "      <td>4042.95</td>\n",
              "      <td>0.02</td>\n",
              "      <td>Norte</td>\n",
              "    </tr>\n",
              "    <tr>\n",
              "      <th>25</th>\n",
              "      <td>802533</td>\n",
              "      <td>2020-11-04</td>\n",
              "      <td>TO</td>\n",
              "      <td>state</td>\n",
              "      <td>76175</td>\n",
              "      <td>1108</td>\n",
              "      <td>228</td>\n",
              "      <td>True</td>\n",
              "      <td>1572866.00</td>\n",
              "      <td>1590248.00</td>\n",
              "      <td>17.00</td>\n",
              "      <td>4790.13</td>\n",
              "      <td>0.01</td>\n",
              "      <td>Norte</td>\n",
              "    </tr>\n",
              "  </tbody>\n",
              "</table>\n",
              "</div>"
            ],
            "text/plain": [
              "     index       date state  ... confirmed_per_100k_inhabitants  death_rate  region\n",
              "0        0 2020-11-05    AC  ...                        3493.47        0.02   Norte\n",
              "1     4247 2020-11-03    AP  ...                        6130.62        0.01   Norte\n",
              "21  651937 2020-11-04    RR  ...                        9237.29        0.01   Norte\n",
              "17  539186 2020-11-05    RO  ...                        4042.95        0.02   Norte\n",
              "25  802533 2020-11-04    TO  ...                        4790.13        0.01   Norte\n",
              "\n",
              "[5 rows x 14 columns]"
            ]
          },
          "metadata": {
            "tags": []
          },
          "execution_count": 150
        }
      ]
    },
    {
      "cell_type": "code",
      "metadata": {
        "colab": {
          "base_uri": "https://localhost:8080/",
          "height": 108
        },
        "id": "vT_LRsdhEWeZ",
        "outputId": "55ff10ed-6cac-4189-f10c-5e0c0b0850f4"
      },
      "source": [
        "#acumulado de casos confirmados\n",
        "corte1 = ['state','confirmed']\n",
        "\n",
        "acumulado_casos = acumulado[corte1]\n",
        "acumulado_casos = acumulado_casos.sort_values('confirmed', ascending= False)\n",
        "acumulado_casos.head(2)"
      ],
      "execution_count": null,
      "outputs": [
        {
          "output_type": "execute_result",
          "data": {
            "text/html": [
              "<div>\n",
              "<style scoped>\n",
              "    .dataframe tbody tr th:only-of-type {\n",
              "        vertical-align: middle;\n",
              "    }\n",
              "\n",
              "    .dataframe tbody tr th {\n",
              "        vertical-align: top;\n",
              "    }\n",
              "\n",
              "    .dataframe thead th {\n",
              "        text-align: right;\n",
              "    }\n",
              "</style>\n",
              "<table border=\"1\" class=\"dataframe\">\n",
              "  <thead>\n",
              "    <tr style=\"text-align: right;\">\n",
              "      <th></th>\n",
              "      <th>state</th>\n",
              "      <th>confirmed</th>\n",
              "    </tr>\n",
              "  </thead>\n",
              "  <tbody>\n",
              "    <tr>\n",
              "      <th>26</th>\n",
              "      <td>SP</td>\n",
              "      <td>1125936</td>\n",
              "    </tr>\n",
              "    <tr>\n",
              "      <th>16</th>\n",
              "      <td>MG</td>\n",
              "      <td>364541</td>\n",
              "    </tr>\n",
              "  </tbody>\n",
              "</table>\n",
              "</div>"
            ],
            "text/plain": [
              "   state  confirmed\n",
              "26    SP    1125936\n",
              "16    MG     364541"
            ]
          },
          "metadata": {
            "tags": []
          },
          "execution_count": 132
        }
      ]
    },
    {
      "cell_type": "code",
      "metadata": {
        "id": "hfBJ8btmEWDT",
        "colab": {
          "base_uri": "https://localhost:8080/",
          "height": 108
        },
        "outputId": "093a9e6a-1dd2-4e17-9c23-8de7a6ca0a83"
      },
      "source": [
        "#acumulado de casos confirmados\n",
        "corte2 = ['state','deaths']\n",
        "\n",
        "acumulado_mortes = acumulado[corte2]\n",
        "acumulado_mortes = acumulado_mortes.sort_values('deaths', ascending= False)\n",
        "acumulado_mortes.head(2)"
      ],
      "execution_count": null,
      "outputs": [
        {
          "output_type": "execute_result",
          "data": {
            "text/html": [
              "<div>\n",
              "<style scoped>\n",
              "    .dataframe tbody tr th:only-of-type {\n",
              "        vertical-align: middle;\n",
              "    }\n",
              "\n",
              "    .dataframe tbody tr th {\n",
              "        vertical-align: top;\n",
              "    }\n",
              "\n",
              "    .dataframe thead th {\n",
              "        text-align: right;\n",
              "    }\n",
              "</style>\n",
              "<table border=\"1\" class=\"dataframe\">\n",
              "  <thead>\n",
              "    <tr style=\"text-align: right;\">\n",
              "      <th></th>\n",
              "      <th>state</th>\n",
              "      <th>deaths</th>\n",
              "    </tr>\n",
              "  </thead>\n",
              "  <tbody>\n",
              "    <tr>\n",
              "      <th>26</th>\n",
              "      <td>SP</td>\n",
              "      <td>39717</td>\n",
              "    </tr>\n",
              "    <tr>\n",
              "      <th>18</th>\n",
              "      <td>RJ</td>\n",
              "      <td>20849</td>\n",
              "    </tr>\n",
              "  </tbody>\n",
              "</table>\n",
              "</div>"
            ],
            "text/plain": [
              "   state  deaths\n",
              "26    SP   39717\n",
              "18    RJ   20849"
            ]
          },
          "metadata": {
            "tags": []
          },
          "execution_count": 133
        }
      ]
    },
    {
      "cell_type": "code",
      "metadata": {
        "colab": {
          "base_uri": "https://localhost:8080/",
          "height": 108
        },
        "id": "UvF2m0vGu3-n",
        "outputId": "a2134574-dff3-42f2-8843-594132ffe0df"
      },
      "source": [
        "#acumulado de casos confirmados\n",
        "corte3 = ['state','confirmed_per_100k_inhabitants']\n",
        "\n",
        "acumulado_cemk = acumulado[corte3]\n",
        "acumulado_cemk = acumulado_cemk.sort_values('confirmed_per_100k_inhabitants', ascending= False)\n",
        "acumulado_cemk.head(2)"
      ],
      "execution_count": null,
      "outputs": [
        {
          "output_type": "execute_result",
          "data": {
            "text/html": [
              "<div>\n",
              "<style scoped>\n",
              "    .dataframe tbody tr th:only-of-type {\n",
              "        vertical-align: middle;\n",
              "    }\n",
              "\n",
              "    .dataframe tbody tr th {\n",
              "        vertical-align: top;\n",
              "    }\n",
              "\n",
              "    .dataframe thead th {\n",
              "        text-align: right;\n",
              "    }\n",
              "</style>\n",
              "<table border=\"1\" class=\"dataframe\">\n",
              "  <thead>\n",
              "    <tr style=\"text-align: right;\">\n",
              "      <th></th>\n",
              "      <th>state</th>\n",
              "      <th>confirmed_per_100k_inhabitants</th>\n",
              "    </tr>\n",
              "  </thead>\n",
              "  <tbody>\n",
              "    <tr>\n",
              "      <th>21</th>\n",
              "      <td>RR</td>\n",
              "      <td>9237.29</td>\n",
              "    </tr>\n",
              "    <tr>\n",
              "      <th>4</th>\n",
              "      <td>DF</td>\n",
              "      <td>7035.83</td>\n",
              "    </tr>\n",
              "  </tbody>\n",
              "</table>\n",
              "</div>"
            ],
            "text/plain": [
              "   state  confirmed_per_100k_inhabitants\n",
              "21    RR                         9237.29\n",
              "4     DF                         7035.83"
            ]
          },
          "metadata": {
            "tags": []
          },
          "execution_count": 152
        }
      ]
    },
    {
      "cell_type": "code",
      "metadata": {
        "colab": {
          "base_uri": "https://localhost:8080/",
          "height": 198
        },
        "id": "S7IOwkKBXZz-",
        "outputId": "e468813a-5c8b-4864-90cd-e610b1523eff"
      },
      "source": [
        "# separando dados por região\n",
        "dados_regioes = dados[['region', 'date', 'deaths']].groupby(by=['region','date']).sum()\n",
        "dados_regioes.reset_index(inplace=True)\n",
        "\n",
        "dados_regioes.head()"
      ],
      "execution_count": null,
      "outputs": [
        {
          "output_type": "execute_result",
          "data": {
            "text/html": [
              "<div>\n",
              "<style scoped>\n",
              "    .dataframe tbody tr th:only-of-type {\n",
              "        vertical-align: middle;\n",
              "    }\n",
              "\n",
              "    .dataframe tbody tr th {\n",
              "        vertical-align: top;\n",
              "    }\n",
              "\n",
              "    .dataframe thead th {\n",
              "        text-align: right;\n",
              "    }\n",
              "</style>\n",
              "<table border=\"1\" class=\"dataframe\">\n",
              "  <thead>\n",
              "    <tr style=\"text-align: right;\">\n",
              "      <th></th>\n",
              "      <th>region</th>\n",
              "      <th>date</th>\n",
              "      <th>deaths</th>\n",
              "    </tr>\n",
              "  </thead>\n",
              "  <tbody>\n",
              "    <tr>\n",
              "      <th>0</th>\n",
              "      <td>Centro Oeste</td>\n",
              "      <td>2020-03-07</td>\n",
              "      <td>0</td>\n",
              "    </tr>\n",
              "    <tr>\n",
              "      <th>1</th>\n",
              "      <td>Centro Oeste</td>\n",
              "      <td>2020-03-08</td>\n",
              "      <td>0</td>\n",
              "    </tr>\n",
              "    <tr>\n",
              "      <th>2</th>\n",
              "      <td>Centro Oeste</td>\n",
              "      <td>2020-03-09</td>\n",
              "      <td>0</td>\n",
              "    </tr>\n",
              "    <tr>\n",
              "      <th>3</th>\n",
              "      <td>Centro Oeste</td>\n",
              "      <td>2020-03-10</td>\n",
              "      <td>0</td>\n",
              "    </tr>\n",
              "    <tr>\n",
              "      <th>4</th>\n",
              "      <td>Centro Oeste</td>\n",
              "      <td>2020-03-11</td>\n",
              "      <td>0</td>\n",
              "    </tr>\n",
              "  </tbody>\n",
              "</table>\n",
              "</div>"
            ],
            "text/plain": [
              "         region       date  deaths\n",
              "0  Centro Oeste 2020-03-07       0\n",
              "1  Centro Oeste 2020-03-08       0\n",
              "2  Centro Oeste 2020-03-09       0\n",
              "3  Centro Oeste 2020-03-10       0\n",
              "4  Centro Oeste 2020-03-11       0"
            ]
          },
          "metadata": {
            "tags": []
          },
          "execution_count": 134
        }
      ]
    },
    {
      "cell_type": "code",
      "metadata": {
        "colab": {
          "base_uri": "https://localhost:8080/",
          "height": 305
        },
        "id": "UNy3hKLEPdqM",
        "outputId": "b779e3c0-75f4-4be8-dfb0-67dde9988029"
      },
      "source": [
        "# criando um df para o estado do Rio de Janeiro\n",
        "dados_rio = dados[dados[\"state\"] == \"RJ\"].copy()\n",
        "dados_rio = dados_rio[dados_rio[\"place_type\"] == \"state\"].copy()\n",
        "dados_rio.drop(\"city\", axis=1, inplace=True)\n",
        "\n",
        "dados_rio.head()"
      ],
      "execution_count": null,
      "outputs": [
        {
          "output_type": "execute_result",
          "data": {
            "text/html": [
              "<div>\n",
              "<style scoped>\n",
              "    .dataframe tbody tr th:only-of-type {\n",
              "        vertical-align: middle;\n",
              "    }\n",
              "\n",
              "    .dataframe tbody tr th {\n",
              "        vertical-align: top;\n",
              "    }\n",
              "\n",
              "    .dataframe thead th {\n",
              "        text-align: right;\n",
              "    }\n",
              "</style>\n",
              "<table border=\"1\" class=\"dataframe\">\n",
              "  <thead>\n",
              "    <tr style=\"text-align: right;\">\n",
              "      <th></th>\n",
              "      <th>date</th>\n",
              "      <th>state</th>\n",
              "      <th>place_type</th>\n",
              "      <th>confirmed</th>\n",
              "      <th>deaths</th>\n",
              "      <th>order_for_place</th>\n",
              "      <th>is_last</th>\n",
              "      <th>estimated_population_2019</th>\n",
              "      <th>estimated_population</th>\n",
              "      <th>city_ibge_code</th>\n",
              "      <th>confirmed_per_100k_inhabitants</th>\n",
              "      <th>death_rate</th>\n",
              "      <th>region</th>\n",
              "    </tr>\n",
              "  </thead>\n",
              "  <tbody>\n",
              "    <tr>\n",
              "      <th>548128</th>\n",
              "      <td>2020-11-05</td>\n",
              "      <td>RJ</td>\n",
              "      <td>state</td>\n",
              "      <td>313843</td>\n",
              "      <td>20849</td>\n",
              "      <td>236</td>\n",
              "      <td>True</td>\n",
              "      <td>17264943.00</td>\n",
              "      <td>17366189.00</td>\n",
              "      <td>33.00</td>\n",
              "      <td>1807.21</td>\n",
              "      <td>0.07</td>\n",
              "      <td>Sudeste</td>\n",
              "    </tr>\n",
              "    <tr>\n",
              "      <th>548129</th>\n",
              "      <td>2020-11-04</td>\n",
              "      <td>RJ</td>\n",
              "      <td>state</td>\n",
              "      <td>313089</td>\n",
              "      <td>20759</td>\n",
              "      <td>235</td>\n",
              "      <td>False</td>\n",
              "      <td>17264943.00</td>\n",
              "      <td>17366189.00</td>\n",
              "      <td>33.00</td>\n",
              "      <td>1802.87</td>\n",
              "      <td>0.07</td>\n",
              "      <td>Sudeste</td>\n",
              "    </tr>\n",
              "    <tr>\n",
              "      <th>548130</th>\n",
              "      <td>2020-11-03</td>\n",
              "      <td>RJ</td>\n",
              "      <td>state</td>\n",
              "      <td>313089</td>\n",
              "      <td>20651</td>\n",
              "      <td>234</td>\n",
              "      <td>False</td>\n",
              "      <td>17264943.00</td>\n",
              "      <td>17366189.00</td>\n",
              "      <td>33.00</td>\n",
              "      <td>1802.87</td>\n",
              "      <td>0.07</td>\n",
              "      <td>Sudeste</td>\n",
              "    </tr>\n",
              "    <tr>\n",
              "      <th>548131</th>\n",
              "      <td>2020-11-02</td>\n",
              "      <td>RJ</td>\n",
              "      <td>state</td>\n",
              "      <td>311308</td>\n",
              "      <td>20636</td>\n",
              "      <td>233</td>\n",
              "      <td>False</td>\n",
              "      <td>17264943.00</td>\n",
              "      <td>17366189.00</td>\n",
              "      <td>33.00</td>\n",
              "      <td>1792.61</td>\n",
              "      <td>0.07</td>\n",
              "      <td>Sudeste</td>\n",
              "    </tr>\n",
              "    <tr>\n",
              "      <th>548132</th>\n",
              "      <td>2020-11-01</td>\n",
              "      <td>RJ</td>\n",
              "      <td>state</td>\n",
              "      <td>311014</td>\n",
              "      <td>20611</td>\n",
              "      <td>232</td>\n",
              "      <td>False</td>\n",
              "      <td>17264943.00</td>\n",
              "      <td>17366189.00</td>\n",
              "      <td>33.00</td>\n",
              "      <td>1790.92</td>\n",
              "      <td>0.07</td>\n",
              "      <td>Sudeste</td>\n",
              "    </tr>\n",
              "  </tbody>\n",
              "</table>\n",
              "</div>"
            ],
            "text/plain": [
              "             date state  ... death_rate   region\n",
              "548128 2020-11-05    RJ  ...       0.07  Sudeste\n",
              "548129 2020-11-04    RJ  ...       0.07  Sudeste\n",
              "548130 2020-11-03    RJ  ...       0.07  Sudeste\n",
              "548131 2020-11-02    RJ  ...       0.07  Sudeste\n",
              "548132 2020-11-01    RJ  ...       0.07  Sudeste\n",
              "\n",
              "[5 rows x 13 columns]"
            ]
          },
          "metadata": {
            "tags": []
          },
          "execution_count": 135
        }
      ]
    },
    {
      "cell_type": "code",
      "metadata": {
        "colab": {
          "base_uri": "https://localhost:8080/",
          "height": 198
        },
        "id": "pC9CNphrP9jS",
        "outputId": "ec895396-13ca-44fc-ffb8-1a12f3d3227e"
      },
      "source": [
        "corte4 = ['date','confirmed','deaths','death_rate','confirmed_per_100k_inhabitants']\n",
        "\n",
        "casos_rio = dados_rio[corte4]\n",
        "casos_rio = casos_rio.sort_values('date')\n",
        "casos_rio.head()"
      ],
      "execution_count": null,
      "outputs": [
        {
          "output_type": "execute_result",
          "data": {
            "text/html": [
              "<div>\n",
              "<style scoped>\n",
              "    .dataframe tbody tr th:only-of-type {\n",
              "        vertical-align: middle;\n",
              "    }\n",
              "\n",
              "    .dataframe tbody tr th {\n",
              "        vertical-align: top;\n",
              "    }\n",
              "\n",
              "    .dataframe thead th {\n",
              "        text-align: right;\n",
              "    }\n",
              "</style>\n",
              "<table border=\"1\" class=\"dataframe\">\n",
              "  <thead>\n",
              "    <tr style=\"text-align: right;\">\n",
              "      <th></th>\n",
              "      <th>date</th>\n",
              "      <th>confirmed</th>\n",
              "      <th>deaths</th>\n",
              "      <th>death_rate</th>\n",
              "      <th>confirmed_per_100k_inhabitants</th>\n",
              "    </tr>\n",
              "  </thead>\n",
              "  <tbody>\n",
              "    <tr>\n",
              "      <th>548363</th>\n",
              "      <td>2020-03-05</td>\n",
              "      <td>1</td>\n",
              "      <td>0</td>\n",
              "      <td>0.00</td>\n",
              "      <td>0.01</td>\n",
              "    </tr>\n",
              "    <tr>\n",
              "      <th>548362</th>\n",
              "      <td>2020-03-06</td>\n",
              "      <td>2</td>\n",
              "      <td>0</td>\n",
              "      <td>0.00</td>\n",
              "      <td>0.01</td>\n",
              "    </tr>\n",
              "    <tr>\n",
              "      <th>548361</th>\n",
              "      <td>2020-03-08</td>\n",
              "      <td>3</td>\n",
              "      <td>0</td>\n",
              "      <td>0.00</td>\n",
              "      <td>0.02</td>\n",
              "    </tr>\n",
              "    <tr>\n",
              "      <th>548360</th>\n",
              "      <td>2020-03-12</td>\n",
              "      <td>15</td>\n",
              "      <td>0</td>\n",
              "      <td>0.00</td>\n",
              "      <td>0.09</td>\n",
              "    </tr>\n",
              "    <tr>\n",
              "      <th>548359</th>\n",
              "      <td>2020-03-15</td>\n",
              "      <td>24</td>\n",
              "      <td>0</td>\n",
              "      <td>0.00</td>\n",
              "      <td>0.14</td>\n",
              "    </tr>\n",
              "  </tbody>\n",
              "</table>\n",
              "</div>"
            ],
            "text/plain": [
              "             date  confirmed  ...  death_rate  confirmed_per_100k_inhabitants\n",
              "548363 2020-03-05          1  ...        0.00                            0.01\n",
              "548362 2020-03-06          2  ...        0.00                            0.01\n",
              "548361 2020-03-08          3  ...        0.00                            0.02\n",
              "548360 2020-03-12         15  ...        0.00                            0.09\n",
              "548359 2020-03-15         24  ...        0.00                            0.14\n",
              "\n",
              "[5 rows x 5 columns]"
            ]
          },
          "metadata": {
            "tags": []
          },
          "execution_count": 144
        }
      ]
    },
    {
      "cell_type": "code",
      "metadata": {
        "colab": {
          "base_uri": "https://localhost:8080/",
          "height": 305
        },
        "id": "w9m44nOHgDZu",
        "outputId": "41b621f8-7f0a-43ca-dc96-e9d8e3429181"
      },
      "source": [
        "# criando um df para o estado de Santa Catarina\n",
        "dados_sc = dados[dados[\"state\"] == \"SC\"].copy()\n",
        "dados_sc = dados_sc[dados_sc[\"place_type\"] == \"state\"].copy()\n",
        "dados_sc.drop(\"city\", axis=1, inplace=True)\n",
        "\n",
        "dados_sc.head()"
      ],
      "execution_count": null,
      "outputs": [
        {
          "output_type": "execute_result",
          "data": {
            "text/html": [
              "<div>\n",
              "<style scoped>\n",
              "    .dataframe tbody tr th:only-of-type {\n",
              "        vertical-align: middle;\n",
              "    }\n",
              "\n",
              "    .dataframe tbody tr th {\n",
              "        vertical-align: top;\n",
              "    }\n",
              "\n",
              "    .dataframe thead th {\n",
              "        text-align: right;\n",
              "    }\n",
              "</style>\n",
              "<table border=\"1\" class=\"dataframe\">\n",
              "  <thead>\n",
              "    <tr style=\"text-align: right;\">\n",
              "      <th></th>\n",
              "      <th>date</th>\n",
              "      <th>state</th>\n",
              "      <th>place_type</th>\n",
              "      <th>confirmed</th>\n",
              "      <th>deaths</th>\n",
              "      <th>order_for_place</th>\n",
              "      <th>is_last</th>\n",
              "      <th>estimated_population_2019</th>\n",
              "      <th>estimated_population</th>\n",
              "      <th>city_ibge_code</th>\n",
              "      <th>confirmed_per_100k_inhabitants</th>\n",
              "      <th>death_rate</th>\n",
              "      <th>region</th>\n",
              "    </tr>\n",
              "  </thead>\n",
              "  <tbody>\n",
              "    <tr>\n",
              "      <th>668623</th>\n",
              "      <td>2020-11-05</td>\n",
              "      <td>SC</td>\n",
              "      <td>state</td>\n",
              "      <td>268644</td>\n",
              "      <td>3173</td>\n",
              "      <td>239</td>\n",
              "      <td>True</td>\n",
              "      <td>7164788.00</td>\n",
              "      <td>7252502.00</td>\n",
              "      <td>42.00</td>\n",
              "      <td>3704.16</td>\n",
              "      <td>0.01</td>\n",
              "      <td>Sul</td>\n",
              "    </tr>\n",
              "    <tr>\n",
              "      <th>668624</th>\n",
              "      <td>2020-11-04</td>\n",
              "      <td>SC</td>\n",
              "      <td>state</td>\n",
              "      <td>266637</td>\n",
              "      <td>3163</td>\n",
              "      <td>238</td>\n",
              "      <td>False</td>\n",
              "      <td>7164788.00</td>\n",
              "      <td>7252502.00</td>\n",
              "      <td>42.00</td>\n",
              "      <td>3676.48</td>\n",
              "      <td>0.01</td>\n",
              "      <td>Sul</td>\n",
              "    </tr>\n",
              "    <tr>\n",
              "      <th>668625</th>\n",
              "      <td>2020-11-03</td>\n",
              "      <td>SC</td>\n",
              "      <td>state</td>\n",
              "      <td>263823</td>\n",
              "      <td>3139</td>\n",
              "      <td>237</td>\n",
              "      <td>False</td>\n",
              "      <td>7164788.00</td>\n",
              "      <td>7252502.00</td>\n",
              "      <td>42.00</td>\n",
              "      <td>3637.68</td>\n",
              "      <td>0.01</td>\n",
              "      <td>Sul</td>\n",
              "    </tr>\n",
              "    <tr>\n",
              "      <th>668626</th>\n",
              "      <td>2020-11-02</td>\n",
              "      <td>SC</td>\n",
              "      <td>state</td>\n",
              "      <td>261543</td>\n",
              "      <td>3129</td>\n",
              "      <td>236</td>\n",
              "      <td>False</td>\n",
              "      <td>7164788.00</td>\n",
              "      <td>7252502.00</td>\n",
              "      <td>42.00</td>\n",
              "      <td>3606.25</td>\n",
              "      <td>0.01</td>\n",
              "      <td>Sul</td>\n",
              "    </tr>\n",
              "    <tr>\n",
              "      <th>668627</th>\n",
              "      <td>2020-11-01</td>\n",
              "      <td>SC</td>\n",
              "      <td>state</td>\n",
              "      <td>260057</td>\n",
              "      <td>3122</td>\n",
              "      <td>235</td>\n",
              "      <td>False</td>\n",
              "      <td>7164788.00</td>\n",
              "      <td>7252502.00</td>\n",
              "      <td>42.00</td>\n",
              "      <td>3585.76</td>\n",
              "      <td>0.01</td>\n",
              "      <td>Sul</td>\n",
              "    </tr>\n",
              "  </tbody>\n",
              "</table>\n",
              "</div>"
            ],
            "text/plain": [
              "             date state  ... death_rate  region\n",
              "668623 2020-11-05    SC  ...       0.01     Sul\n",
              "668624 2020-11-04    SC  ...       0.01     Sul\n",
              "668625 2020-11-03    SC  ...       0.01     Sul\n",
              "668626 2020-11-02    SC  ...       0.01     Sul\n",
              "668627 2020-11-01    SC  ...       0.01     Sul\n",
              "\n",
              "[5 rows x 13 columns]"
            ]
          },
          "metadata": {
            "tags": []
          },
          "execution_count": 137
        }
      ]
    },
    {
      "cell_type": "code",
      "metadata": {
        "colab": {
          "base_uri": "https://localhost:8080/",
          "height": 198
        },
        "id": "0z8mbS58gVoE",
        "outputId": "87c64acf-5abf-4d86-f449-5d6768eabbf9"
      },
      "source": [
        "corte4 = ['date','confirmed','deaths','death_rate','confirmed_per_100k_inhabitants']\n",
        "\n",
        "casos_sc = dados_sc[corte4]\n",
        "casos_sc = casos_sc.sort_values('date')\n",
        "casos_sc.head()"
      ],
      "execution_count": null,
      "outputs": [
        {
          "output_type": "execute_result",
          "data": {
            "text/html": [
              "<div>\n",
              "<style scoped>\n",
              "    .dataframe tbody tr th:only-of-type {\n",
              "        vertical-align: middle;\n",
              "    }\n",
              "\n",
              "    .dataframe tbody tr th {\n",
              "        vertical-align: top;\n",
              "    }\n",
              "\n",
              "    .dataframe thead th {\n",
              "        text-align: right;\n",
              "    }\n",
              "</style>\n",
              "<table border=\"1\" class=\"dataframe\">\n",
              "  <thead>\n",
              "    <tr style=\"text-align: right;\">\n",
              "      <th></th>\n",
              "      <th>date</th>\n",
              "      <th>confirmed</th>\n",
              "      <th>deaths</th>\n",
              "      <th>death_rate</th>\n",
              "      <th>confirmed_per_100k_inhabitants</th>\n",
              "    </tr>\n",
              "  </thead>\n",
              "  <tbody>\n",
              "    <tr>\n",
              "      <th>668861</th>\n",
              "      <td>2020-03-12</td>\n",
              "      <td>2</td>\n",
              "      <td>0</td>\n",
              "      <td>0.00</td>\n",
              "      <td>0.03</td>\n",
              "    </tr>\n",
              "    <tr>\n",
              "      <th>668860</th>\n",
              "      <td>2020-03-13</td>\n",
              "      <td>3</td>\n",
              "      <td>0</td>\n",
              "      <td>0.00</td>\n",
              "      <td>0.04</td>\n",
              "    </tr>\n",
              "    <tr>\n",
              "      <th>668859</th>\n",
              "      <td>2020-03-14</td>\n",
              "      <td>5</td>\n",
              "      <td>0</td>\n",
              "      <td>0.00</td>\n",
              "      <td>0.07</td>\n",
              "    </tr>\n",
              "    <tr>\n",
              "      <th>668858</th>\n",
              "      <td>2020-03-15</td>\n",
              "      <td>6</td>\n",
              "      <td>0</td>\n",
              "      <td>0.00</td>\n",
              "      <td>0.08</td>\n",
              "    </tr>\n",
              "    <tr>\n",
              "      <th>668857</th>\n",
              "      <td>2020-03-16</td>\n",
              "      <td>7</td>\n",
              "      <td>0</td>\n",
              "      <td>0.00</td>\n",
              "      <td>0.10</td>\n",
              "    </tr>\n",
              "  </tbody>\n",
              "</table>\n",
              "</div>"
            ],
            "text/plain": [
              "             date  confirmed  ...  death_rate  confirmed_per_100k_inhabitants\n",
              "668861 2020-03-12          2  ...        0.00                            0.03\n",
              "668860 2020-03-13          3  ...        0.00                            0.04\n",
              "668859 2020-03-14          5  ...        0.00                            0.07\n",
              "668858 2020-03-15          6  ...        0.00                            0.08\n",
              "668857 2020-03-16          7  ...        0.00                            0.10\n",
              "\n",
              "[5 rows x 5 columns]"
            ]
          },
          "metadata": {
            "tags": []
          },
          "execution_count": 143
        }
      ]
    },
    {
      "cell_type": "markdown",
      "metadata": {
        "id": "Gw-K6V34KGi7"
      },
      "source": [
        "###Análise dos dados"
      ]
    },
    {
      "cell_type": "markdown",
      "metadata": {
        "id": "N5sARwJcKb6i"
      },
      "source": [
        "Fazendo uma análise inicial dos dados acumulados, é possível perceber que os estados não seguem a mesma ordem para o acumulado de casos e de mortes. Destaque para o Rio de Janeiro que está em segundo no número de mortes, mesmo sendo o quarto em número de casos. Outro estados com posições discrepantes é Santa Catarina, que é o sexto em número de casos, mas é o décimo sexto em mortes. \n"
      ]
    },
    {
      "cell_type": "code",
      "metadata": {
        "colab": {
          "base_uri": "https://localhost:8080/",
          "height": 410
        },
        "id": "oLHpyDmuIRy8",
        "outputId": "79ee8459-fa6f-47dc-e33c-de34a45efd17"
      },
      "source": [
        "ax = acumulado_casos.plot(x=\"state\",kind=\"bar\", figsize=(9,6))\n",
        "\n",
        "plt.title(\"Acumulado de casos por estado\")\n",
        "plt.show()"
      ],
      "execution_count": null,
      "outputs": [
        {
          "output_type": "display_data",
          "data": {
            "image/png": "[encoded data removed]",
            "text/plain": [
              "<Figure size 648x432 with 1 Axes>"
            ]
          },
          "metadata": {
            "tags": [],
            "needs_background": "light"
          }
        }
      ]
    },
    {
      "cell_type": "code",
      "metadata": {
        "id": "NfrQN_gnC02i",
        "colab": {
          "base_uri": "https://localhost:8080/",
          "height": 410
        },
        "outputId": "212ffa34-a111-4aa9-cf06-c96dda732fd6"
      },
      "source": [
        "ax = acumulado_mortes.plot(x=\"state\",kind=\"bar\", figsize=(9,6))\n",
        "\n",
        "plt.title(\"Acumulado de mortes por estado\")\n",
        "plt.show()"
      ],
      "execution_count": null,
      "outputs": [
        {
          "output_type": "display_data",
          "data": {
            "image/png": "[encoded data removed]",
            "text/plain": [
              "<Figure size 648x432 with 1 Axes>"
            ]
          },
          "metadata": {
            "tags": [],
            "needs_background": "light"
          }
        }
      ]
    },
    {
      "cell_type": "markdown",
      "metadata": {
        "id": "D4w5UE5BNT0N"
      },
      "source": [
        "Essa  análise poderia ser feita pela coluna *'death_rate*', mas a intenção foi fazer de forma visual.\n"
      ]
    },
    {
      "cell_type": "code",
      "metadata": {
        "colab": {
          "base_uri": "https://localhost:8080/",
          "height": 115
        },
        "id": "fHmiwD7AdKid",
        "outputId": "2db2e52c-c3bc-4817-9e73-e882e8e5c242"
      },
      "source": [
        "#Santa Catarina com a menor letalidade\n",
        "acumulado.sort_values(by = 'death_rate')\n",
        "\n",
        "acumulado.head(1)"
      ],
      "execution_count": null,
      "outputs": [
        {
          "output_type": "execute_result",
          "data": {
            "text/html": [
              "<div>\n",
              "<style scoped>\n",
              "    .dataframe tbody tr th:only-of-type {\n",
              "        vertical-align: middle;\n",
              "    }\n",
              "\n",
              "    .dataframe tbody tr th {\n",
              "        vertical-align: top;\n",
              "    }\n",
              "\n",
              "    .dataframe thead th {\n",
              "        text-align: right;\n",
              "    }\n",
              "</style>\n",
              "<table border=\"1\" class=\"dataframe\">\n",
              "  <thead>\n",
              "    <tr style=\"text-align: right;\">\n",
              "      <th></th>\n",
              "      <th>index</th>\n",
              "      <th>date</th>\n",
              "      <th>state</th>\n",
              "      <th>place_type</th>\n",
              "      <th>confirmed</th>\n",
              "      <th>deaths</th>\n",
              "      <th>order_for_place</th>\n",
              "      <th>is_last</th>\n",
              "      <th>estimated_population_2019</th>\n",
              "      <th>estimated_population</th>\n",
              "      <th>city_ibge_code</th>\n",
              "      <th>confirmed_per_100k_inhabitants</th>\n",
              "      <th>death_rate</th>\n",
              "      <th>region</th>\n",
              "    </tr>\n",
              "  </thead>\n",
              "  <tbody>\n",
              "    <tr>\n",
              "      <th>23</th>\n",
              "      <td>668623</td>\n",
              "      <td>2020-11-05</td>\n",
              "      <td>SC</td>\n",
              "      <td>state</td>\n",
              "      <td>268644</td>\n",
              "      <td>3173</td>\n",
              "      <td>239</td>\n",
              "      <td>True</td>\n",
              "      <td>7164788.00</td>\n",
              "      <td>7252502.00</td>\n",
              "      <td>42.00</td>\n",
              "      <td>3704.16</td>\n",
              "      <td>0.01</td>\n",
              "      <td>Sul</td>\n",
              "    </tr>\n",
              "  </tbody>\n",
              "</table>\n",
              "</div>"
            ],
            "text/plain": [
              "     index       date state  ... confirmed_per_100k_inhabitants  death_rate  region\n",
              "23  668623 2020-11-05    SC  ...                        3704.16        0.01     Sul\n",
              "\n",
              "[1 rows x 14 columns]"
            ]
          },
          "metadata": {
            "tags": []
          },
          "execution_count": 115
        }
      ]
    },
    {
      "cell_type": "markdown",
      "metadata": {
        "id": "35yGPzMynGJX"
      },
      "source": [
        ""
      ]
    },
    {
      "cell_type": "code",
      "metadata": {
        "colab": {
          "base_uri": "https://localhost:8080/",
          "height": 115
        },
        "id": "cqnaubEQdh_N",
        "outputId": "4798c0e6-5682-4537-83a6-64fded17aa49"
      },
      "source": [
        "#Rio de Janeiro com a maior letalidade\n",
        "acumulado.tail(1)"
      ],
      "execution_count": null,
      "outputs": [
        {
          "output_type": "execute_result",
          "data": {
            "text/html": [
              "<div>\n",
              "<style scoped>\n",
              "    .dataframe tbody tr th:only-of-type {\n",
              "        vertical-align: middle;\n",
              "    }\n",
              "\n",
              "    .dataframe tbody tr th {\n",
              "        vertical-align: top;\n",
              "    }\n",
              "\n",
              "    .dataframe thead th {\n",
              "        text-align: right;\n",
              "    }\n",
              "</style>\n",
              "<table border=\"1\" class=\"dataframe\">\n",
              "  <thead>\n",
              "    <tr style=\"text-align: right;\">\n",
              "      <th></th>\n",
              "      <th>index</th>\n",
              "      <th>date</th>\n",
              "      <th>state</th>\n",
              "      <th>place_type</th>\n",
              "      <th>confirmed</th>\n",
              "      <th>deaths</th>\n",
              "      <th>order_for_place</th>\n",
              "      <th>is_last</th>\n",
              "      <th>estimated_population_2019</th>\n",
              "      <th>estimated_population</th>\n",
              "      <th>city_ibge_code</th>\n",
              "      <th>confirmed_per_100k_inhabitants</th>\n",
              "      <th>death_rate</th>\n",
              "      <th>region</th>\n",
              "    </tr>\n",
              "  </thead>\n",
              "  <tbody>\n",
              "    <tr>\n",
              "      <th>18</th>\n",
              "      <td>548128</td>\n",
              "      <td>2020-11-05</td>\n",
              "      <td>RJ</td>\n",
              "      <td>state</td>\n",
              "      <td>313843</td>\n",
              "      <td>20849</td>\n",
              "      <td>236</td>\n",
              "      <td>True</td>\n",
              "      <td>17264943.00</td>\n",
              "      <td>17366189.00</td>\n",
              "      <td>33.00</td>\n",
              "      <td>1807.21</td>\n",
              "      <td>0.07</td>\n",
              "      <td>Sudeste</td>\n",
              "    </tr>\n",
              "  </tbody>\n",
              "</table>\n",
              "</div>"
            ],
            "text/plain": [
              "     index       date  ... death_rate   region\n",
              "18  548128 2020-11-05  ...       0.07  Sudeste\n",
              "\n",
              "[1 rows x 14 columns]"
            ]
          },
          "metadata": {
            "tags": []
          },
          "execution_count": 117
        }
      ]
    },
    {
      "cell_type": "markdown",
      "metadata": {
        "id": "6FKXvNhNNfwp"
      },
      "source": [
        "De fato, pesquisando há reportagens sobre a alta taxa de letalidade no estado do Rio de Janeiro: \"*Na comparação com os estados... observa-se que a letalidade no município do Rio está bem acima da média nacional...No Estado do Rio de Janeiro, a taxa alta é puxada não apenas pelo município do Rio, mas também por outras cidades fluminenses ... Ela pode ser fruto da soma dos dois fatores: a subnotificação, junto com a precarização do atendimento à saúde na esfera pública*\" (https://pfarma.com.br/coronavirus/5861-letalidade-covid19-rio-de-janeiro.html)"
      ]
    },
    {
      "cell_type": "markdown",
      "metadata": {
        "id": "gh-kQ_C7d2IX"
      },
      "source": [
        "Também se encontrou reportagem sobre a baixa letalidade de Santa Catarina: \" *o estado apresenta trajetória de queda no número diário de mortes decorrentes da doença ... A taxa de letalidade catarinense, é a menor do Brasil e está abaixo da maioria dos países desenvolvidos ... atribui os números positivos de Santa Catarina na comparação com outros estados e países às medidas adotadas no início da pandemia, que permitiram adiar o pico da curva de contágio a tempo do fortalecimento da estrutura hospitalar.*\" (https://ocp.news/geral/sc-tem-a-menor-taxa-de-letalidade-por-coronavirus-no-brasil-afirma-governo-do-estado)"
      ]
    },
    {
      "cell_type": "markdown",
      "metadata": {
        "id": "82mI0oYNfoQm"
      },
      "source": [
        "O que Rio de Janeiro e Santa Catarina tem de tão diferente? Muitas coisas poderiam ser avaliadas (clima, número de hospitais/leitos por habitante, faixa etária da população, por exemplo), porém o que conseguimos visualizar com os dados que temos nesse conjunto? O Rio de Janeiro tem uma população muito maior (17,3 milhões de habitantes contra 7,2 milhões em Santa Catarina, segundo a coluna \"*estimated_population*\") em um estado menor, ou seja, em uma avaliação superficial possui uma maior densidade demográfica no estado."
      ]
    },
    {
      "cell_type": "code",
      "metadata": {
        "colab": {
          "base_uri": "https://localhost:8080/",
          "height": 790
        },
        "id": "bVOE0jHfJ2zT",
        "outputId": "066108b4-7a55-4642-ee93-7d44007e489b"
      },
      "source": [
        "# curva de crescimento dos casos no Rio de Janeiro\n",
        "# o crescimento do número de casos é aproximadamente exponencial, optou-se pela escala logarítmica.\n",
        "\n",
        "casos_rio.plot(x=\"date\",y=\"confirmed\",figsize=(10,6),logy=True, grid=True)\n",
        "plt.title(\"Casos Confirmados Rio de Janeiro\")\n",
        "casos_sc.plot(x=\"date\",y=\"confirmed\",figsize=(10,6),logy=True,grid=True)\n",
        "plt.title(\"Casos Confirmados Santa Catarina\")\n",
        "plt.show()"
      ],
      "execution_count": null,
      "outputs": [
        {
          "output_type": "display_data",
          "data": {
            "image/png": "[encoded data removed]",
            "text/plain": [
              "<Figure size 720x432 with 1 Axes>"
            ]
          },
          "metadata": {
            "tags": [],
            "needs_background": "light"
          }
        },
        {
          "output_type": "display_data",
          "data": {
            "image/png": "[encoded data removed]",
            "text/plain": [
              "<Figure size 720x432 with 1 Axes>"
            ]
          },
          "metadata": {
            "tags": [],
            "needs_background": "light"
          }
        }
      ]
    },
    {
      "cell_type": "markdown",
      "metadata": {
        "id": "Rs6ulANZkQLO"
      },
      "source": [
        "Pode-se observar, comparando a evolução dos dois estados, que a curva de casos em Santa Catarina está mais achatada (\"flattening the curve\"). Este dado vem de encontro ao que os órgão de saúde orientam. "
      ]
    },
    {
      "cell_type": "code",
      "metadata": {
        "colab": {
          "base_uri": "https://localhost:8080/",
          "height": 790
        },
        "id": "k2X1iRDMggs8",
        "outputId": "c40573f8-0234-4321-ada3-9c54e89dec9c"
      },
      "source": [
        "casos_rio.plot(x=\"date\",y=\"deaths\",figsize=(10,6),logy=True,grid=True)\n",
        "plt.title(\"Mortes por Covid-19 Rio de Janeiro\")\n",
        "casos_sc.plot(x=\"date\",y=\"deaths\",figsize=(10,6),logy=True,grid=True)\n",
        "plt.title(\"Mortes por Covid-19 Santa Catarina\")\n",
        "plt.show()"
      ],
      "execution_count": null,
      "outputs": [
        {
          "output_type": "display_data",
          "data": {
            "image/png": "[encoded data removed]",
            "text/plain": [
              "<Figure size 720x432 with 1 Axes>"
            ]
          },
          "metadata": {
            "tags": [],
            "needs_background": "light"
          }
        },
        {
          "output_type": "display_data",
          "data": {
            "image/png": "[encoded data removed]",
            "text/plain": [
              "<Figure size 720x432 with 1 Axes>"
            ]
          },
          "metadata": {
            "tags": [],
            "needs_background": "light"
          }
        }
      ]
    },
    {
      "cell_type": "markdown",
      "metadata": {
        "id": "FM4738EHub1K"
      },
      "source": [
        "Porém, podemos fazer contrapontos as análises apresentadas (afinal, só é possível analisar com os dados o que \"está nos dados\"). Muitas vezes precisamos buscar outras fontes para contrapor as nossas observações. Por exemplo, podemos confiar cegamente nos dados do Rio de Janeiro? (\"Segundo os pesquisadores da Uerj e UFRJ, o alto índice da relação número de mortes e casos confirmados no estado pode ser explicado pela baixa quantidade de testes realizados e uma grande subnotificação de casos.\" Fonte:https://g1.globo.com/rj/rio-de-janeiro/noticia/2020/06/30/rj-tem-a-maior-taxa-de-letalidade-da-covid-19-no-pais-diz-estudo.ghtml). Por outro lado, o estado de Santa Catarina vem apresentando grande aumento no número de casos (por enquanto, sem um aumento expressivo da letalidade)."
      ]
    },
    {
      "cell_type": "code",
      "metadata": {
        "colab": {
          "base_uri": "https://localhost:8080/",
          "height": 790
        },
        "id": "YdvC5v-ZsuXB",
        "outputId": "76875da1-5e85-4b2d-a72d-aea142b32fbf"
      },
      "source": [
        "casos_rio.plot(x=\"date\",y=\"confirmed_per_100k_inhabitants\",figsize=(10,6),grid=True)\n",
        "plt.title(\"Letalidade Covid-19 Rio de Janeiro\")\n",
        "casos_sc.plot(x=\"date\",y=\"confirmed_per_100k_inhabitants\",figsize=(10,6),grid=True)\n",
        "plt.title(\"Letalidade Covid-19 Santa Catarina\")\n",
        "plt.show()"
      ],
      "execution_count": null,
      "outputs": [
        {
          "output_type": "display_data",
          "data": {
            "image/png": "[encoded data removed]",
            "text/plain": [
              "<Figure size 720x432 with 1 Axes>"
            ]
          },
          "metadata": {
            "tags": [],
            "needs_background": "light"
          }
        },
        {
          "output_type": "display_data",
          "data": {
            "image/png": "[encoded data removed]",
            "text/plain": [
              "<Figure size 720x432 with 1 Axes>"
            ]
          },
          "metadata": {
            "tags": [],
            "needs_background": "light"
          }
        }
      ]
    },
    {
      "cell_type": "markdown",
      "metadata": {
        "id": "etfxtcMkvcb4"
      },
      "source": [
        "Duas coisas podem ser vistas nesse gráfico: uma é que aparentemente o Rio tem um menor número de casos por habitantes (vamos comparar com os outros estados mais a baixo) e a outra é a mudança de comportamento dos dados de Santa Catarina no mês de setembro."
      ]
    },
    {
      "cell_type": "code",
      "metadata": {
        "colab": {
          "base_uri": "https://localhost:8080/",
          "height": 416
        },
        "id": "prfOpkjtwGF8",
        "outputId": "557fad60-fa4e-488f-9e73-30241442bf85"
      },
      "source": [
        "casos_sc.plot(x=\"date\",y=\"confirmed\",figsize=(10,6),grid=True)\n",
        "plt.title(\"Casos Confirmados Santa Catarina\")\n",
        "plt.show()"
      ],
      "execution_count": null,
      "outputs": [
        {
          "output_type": "display_data",
          "data": {
            "image/png": "[encoded data removed]",
            "text/plain": [
              "<Figure size 720x432 with 1 Axes>"
            ]
          },
          "metadata": {
            "tags": [],
            "needs_background": "light"
          }
        }
      ]
    },
    {
      "cell_type": "markdown",
      "metadata": {
        "id": "D7IBttJPy-1h"
      },
      "source": [
        "Pesquisando, realmente há um período em setembro com grande entrada de casos em Santa Catarina.  O mais provável é que seja um registro de casos acumulados. Este comportamento também pode ser visto no gráfico acima. Porém, aparentemente ele não invalida as análises feitas até o momento."
      ]
    },
    {
      "cell_type": "code",
      "metadata": {
        "colab": {
          "base_uri": "https://localhost:8080/",
          "height": 410
        },
        "id": "RAy_XNELv8an",
        "outputId": "84117633-3197-4321-d20f-da677d066680"
      },
      "source": [
        "ax = acumulado_cemk.plot(x=\"state\",kind=\"bar\", figsize=(9,6))\n",
        "\n",
        "plt.title(\"Casos confirmados de Covid-19 por 100 mil habitantes\")\n",
        "plt.show()"
      ],
      "execution_count": null,
      "outputs": [
        {
          "output_type": "display_data",
          "data": {
            "image/png": "[encoded data removed]",
            "text/plain": [
              "<Figure size 648x432 with 1 Axes>"
            ]
          },
          "metadata": {
            "tags": [],
            "needs_background": "light"
          }
        }
      ]
    },
    {
      "cell_type": "markdown",
      "metadata": {
        "id": "iThBb3r6wJBW"
      },
      "source": [
        "O Rio de Janeiro está entre os estados com menor número de casos por cem mil habitantes nos dados oficiais. Isso pode ser uma evidência de que há subnotificação, contrapondo este dado com a taxa de letalidade e o fato de que não é esperado um comportamento diferente de transmissão do vírus."
      ]
    },
    {
      "cell_type": "markdown",
      "metadata": {
        "id": "NMPQ0YhlziqI"
      },
      "source": [
        "Concluímos, então, que se os dados apresentados e analisados forem confiáveis, o trabalho visando o achatamento da curva executado no começo da pandemia pelo estado de Santa Catarina (isolamento social, grande porcentagem de testes e investimentos hospitalar, segundo reportagens) parece ter surtido efeito, mantendo baixa a sua taxa de letalidade."
      ]
    }
  ]
}